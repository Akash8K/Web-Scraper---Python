{
 "cells": [
  {
   "cell_type": "code",
   "execution_count": 65,
   "id": "8914562c-804f-4df0-b380-d7fc98a68506",
   "metadata": {},
   "outputs": [
    {
     "name": "stdout",
     "output_type": "stream",
     "text": [
      "Enter the number of pages you want to scrape: \n"
     ]
    },
    {
     "name": "stdin",
     "output_type": "stream",
     "text": [
      " 20\n"
     ]
    },
    {
     "name": "stdout",
     "output_type": "stream",
     "text": [
      "                                                 Title    Price Star Rating\n",
      "0                                 A Light in the Attic  Â£51.77       Three\n",
      "1                                   Tipping the Velvet  Â£53.74         One\n",
      "2                                           Soumission  Â£50.10         One\n",
      "3                                        Sharp Objects  Â£47.82        Four\n",
      "4                Sapiens: A Brief History of Humankind  Â£54.23        Five\n",
      "..                                                 ...      ...         ...\n",
      "395        Take Me Home Tonight (Rock Star Romance #3)  Â£53.98       Three\n",
      "396                  Sleeping Giants (Themis Files #1)  Â£48.74         One\n",
      "397  Setting the World on Fire: The Brief, Astonish...  Â£21.15         Two\n",
      "398                                  Playing with Fire  Â£13.71       Three\n",
      "399              Off the Hook (Fishing for Trouble #1)  Â£47.67       Three\n",
      "\n",
      "[400 rows x 3 columns]\n"
     ]
    },
    {
     "name": "stdin",
     "output_type": "stream",
     "text": [
      "\n",
      "\n",
      "\n",
      "\n",
      "\n",
      " Do you want to download the DataFrame as a CSV file? (Enter 'CONFIRM' or 'confirm' to proceed):  confirm\n"
     ]
    },
    {
     "name": "stdout",
     "output_type": "stream",
     "text": [
      "CSV file saved successfully.\n"
     ]
    }
   ],
   "source": [
    "import requests\n",
    "from bs4 import BeautifulSoup\n",
    "import pandas as pd\n",
    "\n",
    "# Define a base URL pattern\n",
    "base_url = 'https://books.toscrape.com/catalogue/page-{}'\n",
    "\n",
    "# Get user input for the number of pages to scrape\n",
    "print(\"Enter the number of pages you want to scrape: \")\n",
    "num_pages = int(input())  # Convert input to an integer\n",
    "\n",
    "# Create empty lists to store data\n",
    "titles = []\n",
    "prices = []\n",
    "star_ratings = []\n",
    "\n",
    "# Iterate over pages\n",
    "for page_number in range(1, num_pages + 1):\n",
    "    # Construct the URL for the current page\n",
    "    current_url = base_url.format(page_number) + '.html'  # Append '.html' to the URL\n",
    "\n",
    "    # Send a GET request to the URL\n",
    "    response = requests.get(current_url)\n",
    "\n",
    "    # Check if the request was successful (status code 200)\n",
    "    if response.status_code == 200:\n",
    "        # Parse HTML content\n",
    "        soup = BeautifulSoup(response.text, 'html.parser')\n",
    "\n",
    "        # Extract book details including title, price, and star rating\n",
    "        for book in soup.find_all('article', class_='product_pod'):\n",
    "            title = book.h3.a['title']\n",
    "            price = book.select_one('p.price_color').text\n",
    "            star_rating = book.select_one('p.star-rating')['class'][1]\n",
    "\n",
    "            # Append data to lists\n",
    "            titles.append(title)\n",
    "            prices.append(price)\n",
    "            star_ratings.append(star_rating)\n",
    "    else:\n",
    "        print(f\"Failed to fetch data from {current_url}\")\n",
    "\n",
    "# Create a DataFrame from the lists\n",
    "data = {'Title': titles, 'Price': prices, 'Star Rating': star_ratings}\n",
    "df = pd.DataFrame(data)\n",
    "\n",
    "# Display the DataFrame\n",
    "print(df)\n",
    "\n",
    "# Prompt user to confirm downloading as a CSV file\n",
    "download_confirmation = input(\"\\n\\n\\n\\n\\n Do you want to download the DataFrame as a CSV file? (Enter 'CONFIRM' or 'confirm' to proceed): \")\n",
    "\n",
    "if download_confirmation.lower() == 'confirm':\n",
    "    # Save DataFrame to CSV file\n",
    "    df.to_csv('book_data.csv', index=False, chunksize=3000)\n",
    "    print(\"CSV file saved successfully.\")\n",
    "else:\n",
    "    print(\"CSV file download canceled.\")\n"
   ]
  },
  {
   "cell_type": "code",
   "execution_count": null,
   "id": "c479f175-5f12-4d3c-bc2a-6bcc35537eeb",
   "metadata": {},
   "outputs": [],
   "source": []
  }
 ],
 "metadata": {
  "kernelspec": {
   "display_name": "Python 3 (ipykernel)",
   "language": "python",
   "name": "python3"
  },
  "language_info": {
   "codemirror_mode": {
    "name": "ipython",
    "version": 3
   },
   "file_extension": ".py",
   "mimetype": "text/x-python",
   "name": "python",
   "nbconvert_exporter": "python",
   "pygments_lexer": "ipython3",
   "version": "3.11.2"
  }
 },
 "nbformat": 4,
 "nbformat_minor": 5
}
